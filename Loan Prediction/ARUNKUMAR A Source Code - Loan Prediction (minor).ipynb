{
 "cells": [
  {
   "cell_type": "markdown",
   "id": "f1f0f959",
   "metadata": {},
   "source": [
    "IMPORTING NECESSARY LIBRARIES\n",
    "---------------"
   ]
  },
  {
   "cell_type": "code",
   "execution_count": 1,
   "id": "9f89d5c9",
   "metadata": {},
   "outputs": [],
   "source": [
    "import pandas as pd\n",
    "import numpy as np"
   ]
  },
  {
   "cell_type": "markdown",
   "id": "04b0d1eb",
   "metadata": {},
   "source": [
    "LOAD TRAIN DATASET\n",
    "----"
   ]
  },
  {
   "cell_type": "code",
   "execution_count": 2,
   "id": "d967436e",
   "metadata": {},
   "outputs": [],
   "source": [
    "dataset=pd.read_csv('Loan Prediction - TRAIN DATASET.csv')"
   ]
  },
  {
   "cell_type": "markdown",
   "id": "5e15c098",
   "metadata": {},
   "source": [
    "SUMMARIZE TRAIN DATASET\n",
    "---"
   ]
  },
  {
   "cell_type": "code",
   "execution_count": 3,
   "id": "5128b654",
   "metadata": {},
   "outputs": [
    {
     "name": "stdout",
     "output_type": "stream",
     "text": [
      "The rows and columns of the data : (614, 13)\n",
      "--------------------------------------------------------------------------------\n",
      "<class 'pandas.core.frame.DataFrame'>\n",
      "RangeIndex: 614 entries, 0 to 613\n",
      "Data columns (total 13 columns):\n",
      " #   Column             Non-Null Count  Dtype  \n",
      "---  ------             --------------  -----  \n",
      " 0   Loan_ID            614 non-null    object \n",
      " 1   Gender             601 non-null    object \n",
      " 2   Married            611 non-null    object \n",
      " 3   Dependents         599 non-null    object \n",
      " 4   Education          614 non-null    object \n",
      " 5   Self_Employed      582 non-null    object \n",
      " 6   ApplicantIncome    614 non-null    int64  \n",
      " 7   CoapplicantIncome  614 non-null    float64\n",
      " 8   LoanAmount         592 non-null    float64\n",
      " 9   Loan_Amount_Term   600 non-null    float64\n",
      " 10  Credit_History     564 non-null    float64\n",
      " 11  Property_Area      614 non-null    object \n",
      " 12  Loan_Status        614 non-null    object \n",
      "dtypes: float64(4), int64(1), object(8)\n",
      "memory usage: 62.5+ KB\n",
      "None\n",
      "--------------------------------------------------------------------------------\n",
      "    Loan_ID Gender Married Dependents     Education Self_Employed  \\\n",
      "0  LP001002   Male      No          0      Graduate            No   \n",
      "1  LP001003   Male     Yes          1      Graduate            No   \n",
      "2  LP001005   Male     Yes          0      Graduate           Yes   \n",
      "3  LP001006   Male     Yes          0  Not Graduate            No   \n",
      "4  LP001008   Male      No          0      Graduate            No   \n",
      "5  LP001011   Male     Yes          2      Graduate           Yes   \n",
      "6  LP001013   Male     Yes          0  Not Graduate            No   \n",
      "7  LP001014   Male     Yes         3+      Graduate            No   \n",
      "8  LP001018   Male     Yes          2      Graduate            No   \n",
      "9  LP001020   Male     Yes          1      Graduate            No   \n",
      "\n",
      "   ApplicantIncome  CoapplicantIncome  LoanAmount  Loan_Amount_Term  \\\n",
      "0             5849                0.0         NaN             360.0   \n",
      "1             4583             1508.0       128.0             360.0   \n",
      "2             3000                0.0        66.0             360.0   \n",
      "3             2583             2358.0       120.0             360.0   \n",
      "4             6000                0.0       141.0             360.0   \n",
      "5             5417             4196.0       267.0             360.0   \n",
      "6             2333             1516.0        95.0             360.0   \n",
      "7             3036             2504.0       158.0             360.0   \n",
      "8             4006             1526.0       168.0             360.0   \n",
      "9            12841            10968.0       349.0             360.0   \n",
      "\n",
      "   Credit_History Property_Area Loan_Status  \n",
      "0             1.0         Urban           Y  \n",
      "1             1.0         Rural           N  \n",
      "2             1.0         Urban           Y  \n",
      "3             1.0         Urban           Y  \n",
      "4             1.0         Urban           Y  \n",
      "5             1.0         Urban           Y  \n",
      "6             1.0         Urban           Y  \n",
      "7             0.0     Semiurban           N  \n",
      "8             1.0         Urban           Y  \n",
      "9             1.0     Semiurban           N  \n",
      "--------------------------------------------------------------------------------\n",
      "       ApplicantIncome  CoapplicantIncome  LoanAmount  Loan_Amount_Term  \\\n",
      "count       614.000000         614.000000  592.000000         600.00000   \n",
      "mean       5403.459283        1621.245798  146.412162         342.00000   \n",
      "std        6109.041673        2926.248369   85.587325          65.12041   \n",
      "min         150.000000           0.000000    9.000000          12.00000   \n",
      "25%        2877.500000           0.000000  100.000000         360.00000   \n",
      "50%        3812.500000        1188.500000  128.000000         360.00000   \n",
      "75%        5795.000000        2297.250000  168.000000         360.00000   \n",
      "max       81000.000000       41667.000000  700.000000         480.00000   \n",
      "\n",
      "       Credit_History  \n",
      "count      564.000000  \n",
      "mean         0.842199  \n",
      "std          0.364878  \n",
      "min          0.000000  \n",
      "25%          1.000000  \n",
      "50%          1.000000  \n",
      "75%          1.000000  \n",
      "max          1.000000  \n"
     ]
    }
   ],
   "source": [
    "print(\"The rows and columns of the data :\",dataset.shape)\n",
    "print(\"-\" * 80)\n",
    "\n",
    "print(dataset.info())\n",
    "print(\"-\" * 80)\n",
    "\n",
    "print(dataset.head(10))\n",
    "print(\"-\" * 80)\n",
    "\n",
    "print(dataset.describe())"
   ]
  },
  {
   "cell_type": "markdown",
   "id": "75ecf893",
   "metadata": {},
   "source": [
    "PREPROCESSING THE DATASET\n",
    "-------------------------------------------------"
   ]
  },
  {
   "cell_type": "markdown",
   "id": "72e1ac28",
   "metadata": {},
   "source": [
    "STEP1:\n",
    "----\n",
    "          DELETE THE UNWANTED COLUMNS FROM THE DATASET."
   ]
  },
  {
   "cell_type": "code",
   "execution_count": 4,
   "id": "f19e1478",
   "metadata": {},
   "outputs": [
    {
     "name": "stdout",
     "output_type": "stream",
     "text": [
      "  Gender Married Dependents     Education Self_Employed  ApplicantIncome  \\\n",
      "0   Male      No          0      Graduate            No             5849   \n",
      "1   Male     Yes          1      Graduate            No             4583   \n",
      "2   Male     Yes          0      Graduate           Yes             3000   \n",
      "3   Male     Yes          0  Not Graduate            No             2583   \n",
      "4   Male      No          0      Graduate            No             6000   \n",
      "\n",
      "   CoapplicantIncome  LoanAmount  Loan_Amount_Term  Credit_History  \\\n",
      "0                0.0         NaN             360.0             1.0   \n",
      "1             1508.0       128.0             360.0             1.0   \n",
      "2                0.0        66.0             360.0             1.0   \n",
      "3             2358.0       120.0             360.0             1.0   \n",
      "4                0.0       141.0             360.0             1.0   \n",
      "\n",
      "  Property_Area Loan_Status  \n",
      "0         Urban           Y  \n",
      "1         Rural           N  \n",
      "2         Urban           Y  \n",
      "3         Urban           Y  \n",
      "4         Urban           Y  \n"
     ]
    }
   ],
   "source": [
    "data=dataset.drop('Loan_ID',axis=1)\n",
    "print(data.head())"
   ]
  },
  {
   "cell_type": "markdown",
   "id": "126c5bd6",
   "metadata": {},
   "source": [
    "STEP 2:\n",
    "---\n",
    "            FIND OUT THE NULL VALUES OR EMPTY CELLS FROM THE DATASET \n",
    "            AND SUM THE NUMBER OF NULL VALUES."
   ]
  },
  {
   "cell_type": "code",
   "execution_count": 5,
   "id": "8ac3b70c",
   "metadata": {
    "scrolled": true
   },
   "outputs": [
    {
     "name": "stdout",
     "output_type": "stream",
     "text": [
      "Index(['Gender', 'Married', 'Dependents', 'Self_Employed', 'LoanAmount',\n",
      "       'Loan_Amount_Term', 'Credit_History'],\n",
      "      dtype='object')\n",
      "\n",
      " Number of NULL values in each column:\n",
      " **************************************************\n",
      "Gender               13\n",
      "Married               3\n",
      "Dependents           15\n",
      "Education             0\n",
      "Self_Employed        32\n",
      "ApplicantIncome       0\n",
      "CoapplicantIncome     0\n",
      "LoanAmount           22\n",
      "Loan_Amount_Term     14\n",
      "Credit_History       50\n",
      "Property_Area         0\n",
      "Loan_Status           0\n",
      "dtype: int64\n"
     ]
    }
   ],
   "source": [
    "print(data.columns[data.isna().any()])\n",
    "print(\"\\n Number of NULL values in each column:\\n\",'*' * 50)\n",
    "print(data.isna().sum())"
   ]
  },
  {
   "cell_type": "code",
   "execution_count": 6,
   "id": "c5278589",
   "metadata": {},
   "outputs": [
    {
     "name": "stdout",
     "output_type": "stream",
     "text": [
      "         Loan_ID Gender Married Dependents Education Self_Employed  \\\n",
      "count        614    601     611        599       614           582   \n",
      "unique       614      2       2          4         2             2   \n",
      "top     LP001002   Male     Yes          0  Graduate            No   \n",
      "freq           1    489     398        345       480           500   \n",
      "mean         NaN    NaN     NaN        NaN       NaN           NaN   \n",
      "std          NaN    NaN     NaN        NaN       NaN           NaN   \n",
      "min          NaN    NaN     NaN        NaN       NaN           NaN   \n",
      "25%          NaN    NaN     NaN        NaN       NaN           NaN   \n",
      "50%          NaN    NaN     NaN        NaN       NaN           NaN   \n",
      "75%          NaN    NaN     NaN        NaN       NaN           NaN   \n",
      "max          NaN    NaN     NaN        NaN       NaN           NaN   \n",
      "\n",
      "        ApplicantIncome  CoapplicantIncome  LoanAmount  Loan_Amount_Term  \\\n",
      "count        614.000000         614.000000  592.000000         600.00000   \n",
      "unique              NaN                NaN         NaN               NaN   \n",
      "top                 NaN                NaN         NaN               NaN   \n",
      "freq                NaN                NaN         NaN               NaN   \n",
      "mean        5403.459283        1621.245798  146.412162         342.00000   \n",
      "std         6109.041673        2926.248369   85.587325          65.12041   \n",
      "min          150.000000           0.000000    9.000000          12.00000   \n",
      "25%         2877.500000           0.000000  100.000000         360.00000   \n",
      "50%         3812.500000        1188.500000  128.000000         360.00000   \n",
      "75%         5795.000000        2297.250000  168.000000         360.00000   \n",
      "max        81000.000000       41667.000000  700.000000         480.00000   \n",
      "\n",
      "        Credit_History Property_Area Loan_Status  \n",
      "count       564.000000           614         614  \n",
      "unique             NaN             3           2  \n",
      "top                NaN     Semiurban           Y  \n",
      "freq               NaN           233         422  \n",
      "mean          0.842199           NaN         NaN  \n",
      "std           0.364878           NaN         NaN  \n",
      "min           0.000000           NaN         NaN  \n",
      "25%           1.000000           NaN         NaN  \n",
      "50%           1.000000           NaN         NaN  \n",
      "75%           1.000000           NaN         NaN  \n",
      "max           1.000000           NaN         NaN  \n"
     ]
    }
   ],
   "source": [
    "print(dataset.describe(include = 'all'))"
   ]
  },
  {
   "cell_type": "code",
   "execution_count": 7,
   "id": "8f8fbfcf",
   "metadata": {},
   "outputs": [],
   "source": [
    "data['Gender'].fillna('Male',inplace = True)\n",
    "data['Married'].fillna('Yes',inplace = True)\n",
    "data['Dependents'].fillna('0',inplace = True)\n",
    "data['Self_Employed'].fillna('No',inplace = True)\n",
    "data['LoanAmount'].fillna(round(data['LoanAmount'].mean()),inplace = True)\n",
    "data['Loan_Amount_Term'].fillna(round(data['Loan_Amount_Term'].mean()),inplace = True)\n",
    "data['Credit_History'].fillna(round(data['Credit_History'].mean()),inplace = True)"
   ]
  },
  {
   "cell_type": "code",
   "execution_count": 8,
   "id": "85b6061f",
   "metadata": {},
   "outputs": [
    {
     "name": "stdout",
     "output_type": "stream",
     "text": [
      "\n",
      " Number of NULL values in each column:\n",
      " **************************************************\n",
      "Gender               0\n",
      "Married              0\n",
      "Dependents           0\n",
      "Education            0\n",
      "Self_Employed        0\n",
      "ApplicantIncome      0\n",
      "CoapplicantIncome    0\n",
      "LoanAmount           0\n",
      "Loan_Amount_Term     0\n",
      "Credit_History       0\n",
      "Property_Area        0\n",
      "Loan_Status          0\n",
      "dtype: int64\n"
     ]
    }
   ],
   "source": [
    "print(\"\\n Number of NULL values in each column:\\n\",'*' * 50)\n",
    "print(data.isna().sum())"
   ]
  },
  {
   "cell_type": "markdown",
   "id": "98a6b5e9",
   "metadata": {},
   "source": [
    "STEP 3:\n",
    "---         \n",
    "            Encode the categorigal value into Numbberical format."
   ]
  },
  {
   "cell_type": "code",
   "execution_count": 9,
   "id": "677aeec5",
   "metadata": {
    "scrolled": true
   },
   "outputs": [
    {
     "name": "stdout",
     "output_type": "stream",
     "text": [
      "['Female' 'Male']\n",
      "Gender:\n",
      "    Male = 1\n",
      "    Female = 0\n",
      "******************************\n",
      "['No' 'Yes']\n",
      "Married:\n",
      "    Yes = 1\n",
      "    No = 0\n",
      "******************************\n",
      "['0' '1' '2' '3+']\n",
      "Dependents:\n",
      "    0 = 0\n",
      "    1 = 1\n",
      "    2 = 2\n",
      "    3+ = 3\n",
      "******************************\n",
      "['Graduate' 'Not Graduate']\n",
      "Education:\n",
      "    Graduate = 0\n",
      "    Not Graduate = 1\n",
      "******************************\n",
      "['No' 'Yes']\n",
      "Self_Employed:\n",
      "    Yes = 1\n",
      "    No = 0\n",
      "******************************\n",
      "['Rural' 'Semiurban' 'Urban']\n",
      "Property_Area:\n",
      "    Rural = 0\n",
      "    Semiurban = 1\n",
      "    Urban = 2\n",
      "******************************\n",
      "['N' 'Y']\n",
      "Loan_Status:\n",
      "    Y = 1\n",
      "    N = 0\n",
      "******************************\n"
     ]
    }
   ],
   "source": [
    "from sklearn.preprocessing import LabelEncoder\n",
    "lb=LabelEncoder()\n",
    "\n",
    "data['Gender']= lb.fit_transform(data['Gender'])\n",
    "print(lb.classes_)\n",
    "print(\"Gender:\\n    Male = 1\\n    Female = 0\")\n",
    "print(\"*\" * 30)\n",
    "\n",
    "data['Married']= lb.fit_transform(data['Married'])\n",
    "print(lb.classes_)\n",
    "print(\"Married:\\n    Yes = 1\\n    No = 0\")\n",
    "print(\"*\" * 30)\n",
    "\n",
    "data['Dependents']= lb.fit_transform(data['Dependents'])\n",
    "print(lb.classes_)\n",
    "print(\"Dependents:\\n    0 = 0\\n    1 = 1\\n    2 = 2\\n    3+ = 3\")\n",
    "print(\"*\" * 30)\n",
    "\n",
    "data['Education']= lb.fit_transform(data['Education'])\n",
    "print(lb.classes_)\n",
    "print(\"Education:\\n    Graduate = 0\\n    Not Graduate = 1\")\n",
    "print(\"*\" * 30)\n",
    "\n",
    "data['Self_Employed']= lb.fit_transform(data['Self_Employed'])\n",
    "print(lb.classes_)\n",
    "print(\"Self_Employed:\\n    Yes = 1\\n    No = 0\")\n",
    "print(\"*\" * 30)\n",
    "\n",
    "data['Property_Area']= lb.fit_transform(data['Property_Area'])\n",
    "print(lb.classes_)\n",
    "print(\"Property_Area:\\n    Rural = 0\\n    Semiurban = 1\\n    Urban = 2\")\n",
    "print(\"*\" * 30)\n",
    "\n",
    "data['Loan_Status']= lb.fit_transform(data['Loan_Status'])\n",
    "print(lb.classes_)\n",
    "print(\"Loan_Status:\\n    Y = 1\\n    N = 0\")\n",
    "print(\"*\" * 30)"
   ]
  },
  {
   "cell_type": "code",
   "execution_count": 10,
   "id": "262b4f75",
   "metadata": {},
   "outputs": [
    {
     "name": "stdout",
     "output_type": "stream",
     "text": [
      "   Gender  Married  Dependents  Education  Self_Employed  ApplicantIncome  \\\n",
      "0       1        0           0          0              0             5849   \n",
      "1       1        1           1          0              0             4583   \n",
      "2       1        1           0          0              1             3000   \n",
      "3       1        1           0          1              0             2583   \n",
      "4       1        0           0          0              0             6000   \n",
      "\n",
      "   CoapplicantIncome  LoanAmount  Loan_Amount_Term  Credit_History  \\\n",
      "0                0.0       146.0             360.0             1.0   \n",
      "1             1508.0       128.0             360.0             1.0   \n",
      "2                0.0        66.0             360.0             1.0   \n",
      "3             2358.0       120.0             360.0             1.0   \n",
      "4                0.0       141.0             360.0             1.0   \n",
      "\n",
      "   Property_Area  Loan_Status  \n",
      "0              2            1  \n",
      "1              0            0  \n",
      "2              2            1  \n",
      "3              2            1  \n",
      "4              2            1  \n"
     ]
    }
   ],
   "source": [
    "print(data.head())"
   ]
  },
  {
   "cell_type": "markdown",
   "id": "dbcacc4c",
   "metadata": {},
   "source": [
    "STEP 4:\n",
    "----\n",
    "            Split x_train  and y_train from the dataset.\n"
   ]
  },
  {
   "cell_type": "code",
   "execution_count": 11,
   "id": "e9319fb7",
   "metadata": {},
   "outputs": [],
   "source": [
    "x_train = data.iloc[:,:-1].values\n",
    "y_train = data.iloc[:,-1].values"
   ]
  },
  {
   "cell_type": "markdown",
   "id": "3ee936b5",
   "metadata": {},
   "source": [
    "STEP 5:\n",
    "---\n",
    "            Convert X_train value into Standard values."
   ]
  },
  {
   "cell_type": "code",
   "execution_count": 12,
   "id": "1ecb4571",
   "metadata": {},
   "outputs": [],
   "source": [
    "from sklearn.preprocessing import StandardScaler\n",
    "ss = StandardScaler()\n",
    "x_train= ss.fit_transform(x_train,y_train)"
   ]
  },
  {
   "cell_type": "markdown",
   "id": "546cbdf9",
   "metadata": {},
   "source": [
    "STEP 6:\n",
    "---\n",
    "            Fit the model using Logistic Regression.\n",
    "    "
   ]
  },
  {
   "cell_type": "code",
   "execution_count": 13,
   "id": "dd79783d",
   "metadata": {},
   "outputs": [],
   "source": [
    "from sklearn.linear_model import LogisticRegression\n",
    "LoR = LogisticRegression(random_state = 0)\n",
    "model=LoR.fit(x_train,y_train)"
   ]
  },
  {
   "cell_type": "markdown",
   "id": "bdf55481",
   "metadata": {},
   "source": [
    "Result:\n",
    "---\n",
    "            The model is created using Logistic Regression with Train dataset of Loan Prediction.\n",
    "           \n",
    "--------------------------------------------------------------------------------------------------------------------------------"
   ]
  },
  {
   "cell_type": "markdown",
   "id": "a0ede710",
   "metadata": {},
   "source": [
    "                        **PREDICT THE LOAN STATUS using Model the above model**\n",
    "                        --------------------------------------------------------\n"
   ]
  },
  {
   "cell_type": "code",
   "execution_count": 14,
   "id": "965cb35e",
   "metadata": {},
   "outputs": [],
   "source": [
    "dataset1=pd.read_csv('Loan Prediction - Test DATASET.csv')"
   ]
  },
  {
   "cell_type": "code",
   "execution_count": 15,
   "id": "3046db3e",
   "metadata": {},
   "outputs": [],
   "source": [
    "test_data =dataset1.drop('Loan_ID',axis=1)"
   ]
  },
  {
   "cell_type": "code",
   "execution_count": 16,
   "id": "b23834d1",
   "metadata": {},
   "outputs": [],
   "source": [
    "test_data.dropna(axis = 0, inplace =True)"
   ]
  },
  {
   "cell_type": "code",
   "execution_count": 17,
   "id": "9b5a3e8f",
   "metadata": {},
   "outputs": [],
   "source": [
    "from sklearn.preprocessing import LabelEncoder\n",
    "lb=LabelEncoder()\n",
    "\n",
    "test_data['Gender']= lb.fit_transform(test_data['Gender'])\n",
    "test_data['Married']= lb.fit_transform(test_data['Married'])\n",
    "test_data['Dependents']= lb.fit_transform(test_data['Dependents'])\n",
    "test_data['Education']= lb.fit_transform(test_data['Education'])\n",
    "test_data['Self_Employed']= lb.fit_transform(test_data['Self_Employed'])\n",
    "test_data['Property_Area']= lb.fit_transform(test_data['Property_Area'])"
   ]
  },
  {
   "cell_type": "code",
   "execution_count": 20,
   "id": "a7a2a2b7",
   "metadata": {},
   "outputs": [],
   "source": [
    "x_test = test_data.iloc[:,:].values\n",
    "x_test = ss.transform(x_test)"
   ]
  },
  {
   "cell_type": "code",
   "execution_count": 21,
   "id": "a9fcb447",
   "metadata": {},
   "outputs": [
    {
     "data": {
      "text/plain": [
       "array([1, 1, 1, 1, 1, 1, 0, 1, 1, 1, 1, 1, 1, 1, 1, 1, 1, 1, 1, 0, 1, 1,\n",
       "       1, 1, 1, 1, 1, 0, 1, 1, 1, 1, 1, 1, 1, 1, 1, 1, 1, 1, 1, 1, 0, 1,\n",
       "       1, 0, 1, 1, 1, 1, 0, 1, 1, 0, 0, 1, 0, 1, 1, 1, 1, 1, 1, 1, 0, 1,\n",
       "       0, 1, 0, 1, 1, 1, 1, 1, 1, 1, 0, 1, 1, 1, 1, 1, 1, 1, 1, 1, 1, 1,\n",
       "       1, 1, 1, 1, 1, 0, 0, 1, 1, 1, 0, 0, 1, 0, 1, 1, 1, 1, 1, 1, 1, 1,\n",
       "       1, 1, 0, 1, 1, 1, 1, 0, 1, 1, 1, 1, 1, 0, 1, 1, 1, 1, 1, 1, 1, 1,\n",
       "       1, 0, 0, 1, 1, 1, 1, 1, 0, 0, 1, 1, 1, 1, 1, 1, 1, 1, 1, 1, 1, 0,\n",
       "       1, 1, 0, 1, 0, 1, 1, 1, 1, 1, 1, 1, 1, 1, 1, 0, 1, 1, 1, 1, 1, 1,\n",
       "       1, 1, 1, 1, 0, 1, 1, 1, 1, 0, 1, 1, 1, 1, 0, 0, 1, 1, 1, 1, 0, 1,\n",
       "       1, 1, 1, 1, 0, 1, 1, 1, 1, 1, 1, 1, 1, 1, 1, 0, 1, 0, 1, 1, 1, 1,\n",
       "       0, 0, 1, 1, 1, 1, 1, 1, 1, 1, 1, 1, 0, 1, 1, 1, 1, 1, 1, 1, 1, 1,\n",
       "       1, 0, 1, 1, 1, 1, 0, 1, 1, 1, 1, 1, 0, 1, 1, 1, 1, 1, 1, 1, 1, 1,\n",
       "       1, 0, 1, 1, 1, 1, 1, 1, 0, 1, 1, 1, 1, 1, 1, 0, 1, 1, 1, 1, 1, 1,\n",
       "       1, 1, 1])"
      ]
     },
     "execution_count": 21,
     "metadata": {},
     "output_type": "execute_result"
    }
   ],
   "source": [
    "y_pred=model.predict(x_test)\n",
    "y_pred"
   ]
  },
  {
   "cell_type": "markdown",
   "id": "f90d1181",
   "metadata": {},
   "source": [
    "                Predict the loan sension by gettinng the data(features) from the user.\n",
    "              ------------------------------------------------------------------------------"
   ]
  },
  {
   "cell_type": "code",
   "execution_count": 23,
   "id": "27b5d5e9",
   "metadata": {},
   "outputs": [
    {
     "name": "stdout",
     "output_type": "stream",
     "text": [
      "Enter Your Gender:\n",
      " 'MALE' as 1\n",
      " 'FEMALE' as 0\n",
      "1\n",
      "--------------------------------------------------\n",
      "If you married or not:\n",
      " 'YES' as 1\n",
      " 'NO' as 0\n",
      "0\n",
      "--------------------------------------------------\n",
      "Number of dependents You have:\n",
      " '0' as 0\n",
      " '1' as 1\n",
      " '2' as 2\n",
      " '3+' as 3\n",
      "3\n",
      "--------------------------------------------------\n",
      "Enter Your Qualification:\n",
      " 'GRADUATE' as 1\n",
      " 'NOT GRADUATE' as 0\n",
      "0\n",
      "--------------------------------------------------\n",
      "If you Self-Employed or not:\n",
      " 'YES' as 1\n",
      " 'NO' as 0\n",
      "0\n",
      "--------------------------------------------------\n",
      "Enter the Apllicant Monthly Income(without space or comma):\n",
      "15600\n",
      "--------------------------------------------------\n",
      "Enter the Co-applicant Monthly Income(without space or comma):\n",
      "12000\n",
      "--------------------------------------------------\n",
      "Enter the Loan Amount(without space or comma):\n",
      "1000000\n",
      "--------------------------------------------------\n",
      "Enter the Loan Amount Term(without space or comma):\n",
      "6000\n",
      "--------------------------------------------------\n",
      "Enter your Credit History by 1 or 0:\n",
      "0\n",
      "--------------------------------------------------\n",
      "Enter your Property Location:\n",
      " 'RURAL' as 0\n",
      " 'SEMI-URBAN' as 1\n",
      " 'URBAN' as 2\n",
      "0\n",
      "*-*-*-*-*-*-*-*-*-*-*-*-*-*-*-*-*-*-*-*-*-*-*-*-*-*-*-*-*-*-*-*-*-*-*-*-*-*-*-*-\n",
      "[0]\n",
      "Loan will not be Sension.\n"
     ]
    }
   ],
   "source": [
    "print(\"Enter Your Gender:\")\n",
    "print(\" 'MALE' as 1\")\n",
    "print(\" 'FEMALE' as 0\")\n",
    "gen = int(input())\n",
    "print(\"-\" * 50)\n",
    "\n",
    "print(\"If you married or not:\")\n",
    "mar = int(input(\" 'YES' as 1\\n 'NO' as 0\\n\"))\n",
    "print(\"-\" * 50)\n",
    "\n",
    "\n",
    "print(\"Number of dependents You have:\")\n",
    "dep = int(input(\" '0' as 0\\n '1' as 1\\n '2' as 2\\n '3+' as 3\\n\"))\n",
    "print(\"-\" * 50)\n",
    "\n",
    "print(\"Enter Your Qualification:\")\n",
    "qua = int(input(\" 'GRADUATE' as 1\\n 'NOT GRADUATE' as 0\\n\"))\n",
    "print(\"-\" * 50)\n",
    "\n",
    "print(\"If you Self-Employed or not:\")\n",
    "semp = int(input(\" 'YES' as 1\\n 'NO' as 0\\n\"))\n",
    "print(\"-\" * 50)\n",
    "\n",
    "print(\"Enter the Apllicant Monthly Income(without space or comma):\")\n",
    "appin = int(input())\n",
    "print(\"-\" * 50)\n",
    "\n",
    "print(\"Enter the Co-applicant Monthly Income(without space or comma):\")\n",
    "coappin = int(input())\n",
    "print(\"-\" * 50)\n",
    "\n",
    "print(\"Enter the Loan Amount(without space or comma):\")\n",
    "amo = int(input())\n",
    "print(\"-\" * 50)\n",
    "\n",
    "print(\"Enter the Loan Amount Term(without space or comma):\")\n",
    "ter = int(input())\n",
    "print(\"-\" * 50)\n",
    "\n",
    "print(\"Enter your Credit History by 1 or 0:\")\n",
    "cred = int(input())\n",
    "print(\"-\" * 50)\n",
    "\n",
    "print(\"Enter your Property Location:\")\n",
    "loc = int(input(\" 'RURAL' as 0\\n 'SEMI-URBAN' as 1\\n 'URBAN' as 2\\n\"))\n",
    "print(\"*-*-\" * 20)\n",
    "\n",
    "\n",
    "new=[[gen,mar,dep,qua,semp,appin,coappin,amo,ter,cred,loc]]\n",
    "new = ss.transform(new)\n",
    "\n",
    "result=model.predict(new)\n",
    "print(result)\n",
    "if result==1:\n",
    "    print(\"Loan will be Sension.\")\n",
    "else:\n",
    "    print(\"Loan will not be Sension.\")"
   ]
  }
 ],
 "metadata": {
  "kernelspec": {
   "display_name": "Python 3 (ipykernel)",
   "language": "python",
   "name": "python3"
  },
  "language_info": {
   "codemirror_mode": {
    "name": "ipython",
    "version": 3
   },
   "file_extension": ".py",
   "mimetype": "text/x-python",
   "name": "python",
   "nbconvert_exporter": "python",
   "pygments_lexer": "ipython3",
   "version": "3.9.13"
  }
 },
 "nbformat": 4,
 "nbformat_minor": 5
}
